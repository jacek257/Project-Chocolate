{
 "cells": [
  {
   "cell_type": "code",
   "execution_count": 1,
   "metadata": {},
   "outputs": [],
   "source": [
    "import os\n",
    "import numpy as np"
   ]
  },
  {
   "cell_type": "code",
   "execution_count": 10,
   "metadata": {},
   "outputs": [
    {
     "name": "stdout",
     "output_type": "stream",
     "text": [
      "[1, 2, 3, 4, 5]\n",
      "[1 1 1 1 1 1 2 3 4 5]\n",
      "[1 1 1 1 1 1 2 3 4 5 5 5 5 5 5]\n"
     ]
    }
   ],
   "source": [
    "test = [1, 2, 3, 4, 5]\n",
    "test_2 = np.insert(test, [0]*5, test[0])\n",
    "test_3 = np.insert(test_2, [-1]*5, test[-1])\n",
    "print(test)\n",
    "print(test_2)\n",
    "print(test_3)"
   ]
  },
  {
   "cell_type": "code",
   "execution_count": 14,
   "metadata": {},
   "outputs": [],
   "source": [
    "path = '/home/ke/Desktop/Matlab_output_all/'\n",
    "\n",
    "O2_files = [file for file in os.listdir(path) if file.upper().endswith('_UPPER_O2.TXT')]\n",
    "CO2_files = [file for file in os.listdir(path) if file.upper().endswith('_LOWER_CO2.TXT')]\n",
    "\n",
    "for file in O2_files:\n",
    "    array = np.loadtxt(path+file)\n",
    "    array = np.insert(array, [0]*5, array[0])\n",
    "    array = np.insert(array, [-1]*5, array[-1])\n",
    "    np.savetxt(path+file[:-4]+'_ex.txt', array)\n",
    "    \n",
    "for file in CO2_files:\n",
    "    array = np.loadtxt(path+file)\n",
    "    array = np.insert(array, [0]*5, array[0])\n",
    "    array = np.insert(array, [-1]*5, array[-1])\n",
    "    np.savetxt(path+file[:-4]+'_ex.txt', array)"
   ]
  },
  {
   "cell_type": "code",
   "execution_count": null,
   "metadata": {},
   "outputs": [],
   "source": []
  }
 ],
 "metadata": {
  "kernelspec": {
   "display_name": "Python 3",
   "language": "python",
   "name": "python3"
  },
  "language_info": {
   "codemirror_mode": {
    "name": "ipython",
    "version": 3
   },
   "file_extension": ".py",
   "mimetype": "text/x-python",
   "name": "python",
   "nbconvert_exporter": "python",
   "pygments_lexer": "ipython3",
   "version": "3.7.4"
  }
 },
 "nbformat": 4,
 "nbformat_minor": 2
}
