{
 "cells": [
  {
   "cell_type": "code",
   "execution_count": 15,
   "metadata": {},
   "outputs": [],
   "source": [
    "import pandas as pd"
   ]
  },
  {
   "cell_type": "code",
   "execution_count": 23,
   "metadata": {},
   "outputs": [],
   "source": [
    "f_path = '/home/ke/Desktop/test_align/SH_037_20170517_edits.txt'"
   ]
  },
  {
   "cell_type": "code",
   "execution_count": 24,
   "metadata": {},
   "outputs": [],
   "source": [
    "endTidal = pd.read_csv(f_path, sep='\\t|,', header=None, usecols=[0, 1, 2], index_col=False, engine='python')\n",
    "endTidal = endTidal.rename(columns={0 : 'Time',\n",
    "                                    1 : 'O2',\n",
    "                                    2 : 'CO2'})\n",
    "endTidal['Time'] = endTidal['Time']*60\n",
    "endTidal = endTidal.dropna()"
   ]
  },
  {
   "cell_type": "code",
   "execution_count": 25,
   "metadata": {},
   "outputs": [],
   "source": [
    "O2 = endTidal['O2']\n",
    "CO2 = endTidal['CO2']"
   ]
  },
  {
   "cell_type": "code",
   "execution_count": 26,
   "metadata": {},
   "outputs": [
    {
     "data": {
      "text/plain": [
       "31.252225343861813"
      ]
     },
     "execution_count": 26,
     "metadata": {},
     "output_type": "execute_result"
    }
   ],
   "source": [
    "sampling = len(endTidal)/endTidal['Time'].max()\n",
    "sampling"
   ]
  },
  {
   "cell_type": "code",
   "execution_count": 27,
   "metadata": {},
   "outputs": [],
   "source": [
    "O2.to_csv(f_path[:-4]+'_O2.csv', sep='\\t', index=False, header=False)\n",
    "CO2.to_csv(f_path[:-4]+'_CO2.csv', sep='\\t', index=False, header=False)"
   ]
  },
  {
   "cell_type": "code",
   "execution_count": 28,
   "metadata": {},
   "outputs": [
    {
     "data": {
      "text/plain": [
       "0        22.28160\n",
       "1        22.53920\n",
       "2        23.01650\n",
       "3        23.47140\n",
       "4        24.03430\n",
       "           ...   \n",
       "13951    11.87590\n",
       "13952    10.97950\n",
       "13953    10.23360\n",
       "13954     9.67520\n",
       "13955     9.38472\n",
       "Name: CO2, Length: 13956, dtype: float64"
      ]
     },
     "execution_count": 28,
     "metadata": {},
     "output_type": "execute_result"
    }
   ],
   "source": [
    "CO2"
   ]
  },
  {
   "cell_type": "code",
   "execution_count": null,
   "metadata": {},
   "outputs": [],
   "source": []
  }
 ],
 "metadata": {
  "kernelspec": {
   "display_name": "Python 3",
   "language": "python",
   "name": "python3"
  },
  "language_info": {
   "codemirror_mode": {
    "name": "ipython",
    "version": 3
   },
   "file_extension": ".py",
   "mimetype": "text/x-python",
   "name": "python",
   "nbconvert_exporter": "python",
   "pygments_lexer": "ipython3",
   "version": "3.7.6"
  }
 },
 "nbformat": 4,
 "nbformat_minor": 4
}
