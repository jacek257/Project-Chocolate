{
 "cells": [
  {
   "cell_type": "code",
   "execution_count": 28,
   "metadata": {},
   "outputs": [],
   "source": [
    "import numpy as np\n",
    "import subprocess"
   ]
  },
  {
   "cell_type": "code",
   "execution_count": 24,
   "metadata": {},
   "outputs": [
    {
     "name": "stdout",
     "output_type": "stream",
     "text": [
      "[ 0  1  2  3  4  5  6  7  8  9 10 11 12 13 14 15 16 17 18 19]\n",
      "20\n",
      "10\n",
      "10\n",
      "[ 5  6  7  8  9 10 11 12 13 14 15]\n",
      "11\n",
      "5\n",
      "10\n"
     ]
    }
   ],
   "source": [
    "ar = np.arange(0, 20)\n",
    "print(ar)\n",
    "print(len(ar))\n",
    "print(len(ar) // 2)\n",
    "print(ar[len(ar) // 2])\n",
    "limit = 5\n",
    "new_ar = ar[len(ar)//2-limit : len(ar)//2+limit+1]\n",
    "print(new_ar)\n",
    "print(len(new_ar))\n",
    "print(len(new_ar)//2)\n",
    "print(new_ar[len(new_ar)//2])"
   ]
  },
  {
   "cell_type": "code",
   "execution_count": 27,
   "metadata": {},
   "outputs": [
    {
     "name": "stdout",
     "output_type": "stream",
     "text": [
      "[ 0  1  2  3  4  5  6  7  8  9 10 11 12 13 14 15 16 17 18 19 20]\n",
      "21\n",
      "10\n",
      "10\n",
      "[ 5  6  7  8  9 10 11 12 13 14 15]\n",
      "11\n",
      "5\n",
      "10\n"
     ]
    }
   ],
   "source": [
    "ar = np.arange(0, 21)\n",
    "print(ar)\n",
    "print(len(ar))\n",
    "print(len(ar) // 2)\n",
    "print(ar[len(ar) // 2])\n",
    "limit = 5\n",
    "new_ar = ar[len(ar)//2-limit : len(ar)//2+limit+1]\n",
    "print(new_ar)\n",
    "print(len(new_ar))\n",
    "print(len(new_ar)//2)\n",
    "print(new_ar[len(new_ar)//2])"
   ]
  },
  {
   "cell_type": "code",
   "execution_count": 70,
   "metadata": {},
   "outputs": [
    {
     "name": "stdout",
     "output_type": "stream",
     "text": [
      "['15021', 'pts/0', '00:03:38', 'flirt']\n",
      "['00', '03', '38']\n",
      "218\n",
      "['15204', 'pts/0', '00:02:44', 'flirt']\n",
      "['00', '02', '44']\n",
      "164\n",
      "['15967', 'pts/0', '00:01:38', 'flirt']\n",
      "['00', '01', '38']\n",
      "98\n",
      "['16052', 'pts/0', '00:01:33', 'flirt']\n",
      "['00', '01', '33']\n",
      "93\n",
      "['17174', 'pts/0', '00:00:55', 'flirt']\n",
      "['00', '00', '55']\n",
      "55\n",
      "['17269', 'pts/0', '00:00:48', 'flirt']\n",
      "['00', '00', '48']\n",
      "48\n",
      "['17355', 'pts/0', '00:00:44', 'flirt']\n",
      "['00', '00', '44']\n",
      "44\n",
      "['17650', 'pts/0', '00:00:40', 'flirt']\n",
      "['00', '00', '40']\n",
      "40\n",
      "['17950', 'pts/0', '00:00:20', 'flirt']\n",
      "['00', '00', '20']\n",
      "20\n",
      "['18285', 'pts/0', '00:00:12', 'mcflirt']\n",
      "['00', '00', '12']\n",
      "12\n",
      "['19000', 'pts/0', '00:00:00', 'flirt']\n",
      "['00', '00', '00']\n",
      "0\n",
      "[]\n"
     ]
    }
   ],
   "source": [
    "proc = subprocess.Popen(\"ps -e | grep flirt\", encoding='utf-8', stdout=subprocess.PIPE, shell=True)\n",
    "\n",
    "outs = proc.communicate()[0].split('\\n')\n",
    "for line in outs:\n",
    "    parts = line.split()\n",
    "    print(parts)\n",
    "    if len(parts) > 0:\n",
    "        time = parts[2].split(':')\n",
    "        print(time)\n",
    "        secs = int(time[0])*3600 + int(time[1])*60 + int(time[2])\n",
    "        print(secs)"
   ]
  },
  {
   "cell_type": "code",
   "execution_count": null,
   "metadata": {},
   "outputs": [],
   "source": []
  },
  {
   "cell_type": "code",
   "execution_count": null,
   "metadata": {},
   "outputs": [],
   "source": []
  }
 ],
 "metadata": {
  "kernelspec": {
   "display_name": "Python 3",
   "language": "python",
   "name": "python3"
  },
  "language_info": {
   "codemirror_mode": {
    "name": "ipython",
    "version": 3
   },
   "file_extension": ".py",
   "mimetype": "text/x-python",
   "name": "python",
   "nbconvert_exporter": "python",
   "pygments_lexer": "ipython3",
   "version": "3.7.3"
  }
 },
 "nbformat": 4,
 "nbformat_minor": 2
}
