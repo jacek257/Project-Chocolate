{
 "cells": [
  {
   "cell_type": "code",
   "execution_count": 28,
   "metadata": {},
   "outputs": [],
   "source": [
    "import numpy as np\n",
    "import subprocess"
   ]
  },
  {
   "cell_type": "code",
   "execution_count": 24,
   "metadata": {},
   "outputs": [
    {
     "name": "stdout",
     "output_type": "stream",
     "text": [
      "[ 0  1  2  3  4  5  6  7  8  9 10 11 12 13 14 15 16 17 18 19]\n",
      "20\n",
      "10\n",
      "10\n",
      "[ 5  6  7  8  9 10 11 12 13 14 15]\n",
      "11\n",
      "5\n",
      "10\n"
     ]
    }
   ],
   "source": [
    "ar = np.arange(0, 20)\n",
    "print(ar)\n",
    "print(len(ar))\n",
    "print(len(ar) // 2)\n",
    "print(ar[len(ar) // 2])\n",
    "limit = 5\n",
    "new_ar = ar[len(ar)//2-limit : len(ar)//2+limit+1]\n",
    "print(new_ar)\n",
    "print(len(new_ar))\n",
    "print(len(new_ar)//2)\n",
    "print(new_ar[len(new_ar)//2])"
   ]
  },
  {
   "cell_type": "code",
   "execution_count": 27,
   "metadata": {},
   "outputs": [
    {
     "name": "stdout",
     "output_type": "stream",
     "text": [
      "[ 0  1  2  3  4  5  6  7  8  9 10 11 12 13 14 15 16 17 18 19 20]\n",
      "21\n",
      "10\n",
      "10\n",
      "[ 5  6  7  8  9 10 11 12 13 14 15]\n",
      "11\n",
      "5\n",
      "10\n"
     ]
    }
   ],
   "source": [
    "ar = np.arange(0, 21)\n",
    "print(ar)\n",
    "print(len(ar))\n",
    "print(len(ar) // 2)\n",
    "print(ar[len(ar) // 2])\n",
    "limit = 5\n",
    "new_ar = ar[len(ar)//2-limit : len(ar)//2+limit+1]\n",
    "print(new_ar)\n",
    "print(len(new_ar))\n",
    "print(len(new_ar)//2)\n",
    "print(new_ar[len(new_ar)//2])"
   ]
  },
  {
   "cell_type": "code",
   "execution_count": 49,
   "metadata": {},
   "outputs": [
    {
     "name": "stdout",
     "output_type": "stream",
     "text": [
      "  PID TTY          TIME CMD\n",
      " 3433 ?        00:00:14 systemd\n",
      " 3434 ?        00:00:00 (sd-pam)\n",
      " 3447 ?        00:00:03 gnome-keyring-d\n",
      " 3461 ?        00:00:38 dbus-daemon\n",
      " 3545 ?        00:00:06 ssh-agent\n",
      " 3547 ?        00:00:00 at-spi-bus-laun\n",
      " 3552 ?        00:00:12 dbus-daemon\n",
      " 3554 ?        00:01:17 at-spi2-registr\n",
      " 3577 ?        00:00:02 gvfsd\n",
      " 3582 ?        00:00:00 gvfsd-fuse\n",
      " 3593 ?        00:45:42 pulseaudio\n",
      " 3628 ?        00:00:00 xdg-permission-\n",
      " 3640 ?        00:00:02 ibus-portal\n",
      " 3652 ?        00:00:01 gnome-shell-cal\n",
      " 3656 ?        00:00:00 evolution-sourc\n",
      " 3664 ?        00:00:00 goa-daemon\n",
      " 3673 ?        00:00:19 goa-identity-se\n",
      " 3682 ?        00:00:08 dconf-service\n",
      " 3685 ?        00:01:10 gvfs-udisks2-vo\n",
      " 3689 ?        00:00:00 gvfs-gphoto2-vo\n",
      " 3693 ?        00:00:00 gvfs-mtp-volume\n",
      " 3697 ?        00:00:00 gvfs-afc-volume\n",
      " 3702 ?        00:00:00 gvfs-goa-volume\n",
      " 3842 ?        00:00:51 gvfsd-trash\n",
      " 3851 ?        00:00:00 evolution-calen\n",
      " 3870 ?        00:00:03 evolution-calen\n",
      " 3880 ?        00:00:00 evolution-addre\n",
      " 3891 ?        00:00:00 evolution-addre\n",
      " 3915 ?        00:00:13 gvfsd-metadata\n",
      " 3933 ?        00:00:05 zeitgeist-daemo\n",
      " 3941 ?        00:00:05 zeitgeist-fts\n",
      " 3988 ?        00:00:00 gvfsd-network\n",
      " 4001 ?        00:00:00 gvfsd-dnssd\n",
      " 5176 ?        01:34:22 gnome-terminal-\n",
      "12394 ?        00:10:58 gvfsd-afp\n",
      "15918 ?        00:00:05 ZMQbg/1\n",
      "16489 ?        00:03:28 ZMQbg/1\n",
      "16707 ?        00:02:13 ZMQbg/1\n",
      "17567 ?        00:00:02 gvfsd-afp-brows\n",
      "17605 ?        00:00:00 ssh-agent\n",
      "23238 ?        00:01:12 ZMQbg/1\n",
      "24202 ?        00:00:00 sh\n",
      "24203 ?        00:00:00 ps\n",
      "27226 ?        00:00:00 gvfsd-http\n",
      "28664 ?        00:00:04 gvfsd-afp-brows\n",
      "28682 ?        6-00:47:42 gvfsd-afp\n",
      "30368 ?        00:00:00 xdg-document-po\n",
      "30439 ?        00:11:15 nautilus\n",
      "31741 ?        00:00:04 gvfsd-afp\n",
      "31755 ?        00:00:02 oosplash\n",
      "31773 ?        00:17:11 soffice.bin\n",
      "\n",
      "None\n"
     ]
    }
   ],
   "source": [
    "proc = subprocess.Popen(\"ps -e | grep flirt\", encoding='utf-8', stdout=subprocess.PIPE, shell=True)\n",
    "for line in proc.communicate():\n",
    "    print(line)"
   ]
  },
  {
   "cell_type": "code",
   "execution_count": null,
   "metadata": {},
   "outputs": [],
   "source": []
  },
  {
   "cell_type": "code",
   "execution_count": null,
   "metadata": {},
   "outputs": [],
   "source": []
  }
 ],
 "metadata": {
  "kernelspec": {
   "display_name": "Python 3",
   "language": "python",
   "name": "python3"
  },
  "language_info": {
   "codemirror_mode": {
    "name": "ipython",
    "version": 3
   },
   "file_extension": ".py",
   "mimetype": "text/x-python",
   "name": "python",
   "nbconvert_exporter": "python",
   "pygments_lexer": "ipython3",
   "version": "3.7.3"
  }
 },
 "nbformat": 4,
 "nbformat_minor": 2
}
