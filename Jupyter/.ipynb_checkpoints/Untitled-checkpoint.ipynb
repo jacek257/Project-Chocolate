{
 "cells": [
  {
   "cell_type": "code",
   "execution_count": 95,
   "metadata": {},
   "outputs": [],
   "source": [
    "import os\n",
    "import fnmatch\n",
    "import pandas as pd\n",
    "import numpy as np"
   ]
  },
  {
   "cell_type": "code",
   "execution_count": 96,
   "metadata": {},
   "outputs": [],
   "source": [
    "path = '/home/ke/Desktop/phase_contrast/'"
   ]
  },
  {
   "cell_type": "code",
   "execution_count": 110,
   "metadata": {
    "scrolled": false
   },
   "outputs": [
    {
     "name": "stderr",
     "output_type": "stream",
     "text": [
      "ERROR:root:Internal Python error in the inspect module.\n",
      "Below is the traceback from this internal error.\n",
      "\n"
     ]
    },
    {
     "name": "stdout",
     "output_type": "stream",
     "text": [
      "WH1340_PC_verts.txt\n",
      "33.31\n",
      "{'rt vert': [63, 81], 'lt vert': [70, 115]}\n",
      "Traceback (most recent call last):\n",
      "  File \"/home/ke/anaconda3/lib/python3.7/site-packages/IPython/core/interactiveshell.py\", line 3296, in run_code\n",
      "    exec(code_obj, self.user_global_ns, self.user_ns)\n",
      "  File \"<ipython-input-110-22f52c798dce>\", line 27, in <module>\n",
      "    pd.read_csv(f_path, skiprows=start, sep=' +', nrows=4, engine='python')\n",
      "  File \"/home/ke/anaconda3/lib/python3.7/site-packages/pandas/io/parsers.py\", line 702, in parser_f\n",
      "    return _read(filepath_or_buffer, kwds)\n",
      "  File \"/home/ke/anaconda3/lib/python3.7/site-packages/pandas/io/parsers.py\", line 435, in _read\n",
      "    data = parser.read(nrows)\n",
      "  File \"/home/ke/anaconda3/lib/python3.7/site-packages/pandas/io/parsers.py\", line 1139, in read\n",
      "    ret = self._engine.read(nrows)\n",
      "  File \"/home/ke/anaconda3/lib/python3.7/site-packages/pandas/io/parsers.py\", line 2415, in read\n",
      "    alldata = self._rows_to_cols(content)\n",
      "  File \"/home/ke/anaconda3/lib/python3.7/site-packages/pandas/io/parsers.py\", line 3066, in _rows_to_cols\n",
      "    self._alert_malformed(msg, row_num + 1)\n",
      "  File \"/home/ke/anaconda3/lib/python3.7/site-packages/pandas/io/parsers.py\", line 2835, in _alert_malformed\n",
      "    raise ParserError(msg)\n",
      "pandas.errors.ParserError: Expected 5 fields in line 69, saw 7. Error could possibly be due to quotes being ignored when a multi-char delimiter is used.\n",
      "\n",
      "During handling of the above exception, another exception occurred:\n",
      "\n",
      "Traceback (most recent call last):\n",
      "  File \"/home/ke/anaconda3/lib/python3.7/site-packages/IPython/core/interactiveshell.py\", line 2033, in showtraceback\n",
      "    stb = value._render_traceback_()\n",
      "AttributeError: 'ParserError' object has no attribute '_render_traceback_'\n",
      "\n",
      "During handling of the above exception, another exception occurred:\n",
      "\n",
      "Traceback (most recent call last):\n",
      "  File \"/home/ke/anaconda3/lib/python3.7/site-packages/IPython/core/ultratb.py\", line 1095, in get_records\n",
      "    return _fixed_getinnerframes(etb, number_of_lines_of_context, tb_offset)\n",
      "  File \"/home/ke/anaconda3/lib/python3.7/site-packages/IPython/core/ultratb.py\", line 313, in wrapped\n",
      "    return f(*args, **kwargs)\n",
      "  File \"/home/ke/anaconda3/lib/python3.7/site-packages/IPython/core/ultratb.py\", line 347, in _fixed_getinnerframes\n",
      "    records = fix_frame_records_filenames(inspect.getinnerframes(etb, context))\n",
      "  File \"/home/ke/anaconda3/lib/python3.7/inspect.py\", line 1502, in getinnerframes\n",
      "    frameinfo = (tb.tb_frame,) + getframeinfo(tb, context)\n",
      "  File \"/home/ke/anaconda3/lib/python3.7/inspect.py\", line 1460, in getframeinfo\n",
      "    filename = getsourcefile(frame) or getfile(frame)\n",
      "  File \"/home/ke/anaconda3/lib/python3.7/inspect.py\", line 696, in getsourcefile\n",
      "    if getattr(getmodule(object, filename), '__loader__', None) is not None:\n",
      "  File \"/home/ke/anaconda3/lib/python3.7/inspect.py\", line 725, in getmodule\n",
      "    file = getabsfile(object, _filename)\n",
      "  File \"/home/ke/anaconda3/lib/python3.7/inspect.py\", line 709, in getabsfile\n",
      "    return os.path.normcase(os.path.abspath(_filename))\n",
      "  File \"/home/ke/anaconda3/lib/python3.7/posixpath.py\", line 383, in abspath\n",
      "    cwd = os.getcwd()\n",
      "FileNotFoundError: [Errno 2] No such file or directory\n"
     ]
    },
    {
     "ename": "ParserError",
     "evalue": "Expected 5 fields in line 69, saw 7. Error could possibly be due to quotes being ignored when a multi-char delimiter is used.",
     "output_type": "error",
     "traceback": [
      "\u001b[0;31m---------------------------------------------------------------------------\u001b[0m"
     ]
    }
   ],
   "source": [
    "# for direct in os.listdir(path):\n",
    "for direct in next(os.walk(path))[1]:\n",
    "    save_path = '_'.join(direct.split(' ')).split('_')[0]+'_pc.csv'\n",
    "    if fnmatch.fnmatch(direct, 'Caro*') or fnmatch.fnmatch(direct, 'Vert*'):\n",
    "        for file in os.listdir(path+direct):\n",
    "            print(file)\n",
    "            f_path = path+direct+'/'+file\n",
    "            locs = {}\n",
    "            with open(f_path, 'rb') as fp:\n",
    "                for i, line in enumerate(fp):\n",
    "                    if i == 52:\n",
    "                        # 53th line\n",
    "                        tr = str(line).split()[2]\n",
    "                        print(tr)\n",
    "                    elif i > 52:\n",
    "                        if str(line)[2:5] == 'ROI':\n",
    "#                             print(i, line)\n",
    "                            label = line.decode('ascii').split(': ')[1][:-1].lower()\n",
    "#                             print(label)\n",
    "                            if label not in locs:\n",
    "                                locs[label] = [i]\n",
    "                            else:\n",
    "                                locs[label].append(i)\n",
    "            print(locs)\n",
    "            for i in locs:\n",
    "                start = locs[i][0]+1\n",
    "                pd.read_csv(f_path, skiprows=start, sep=' +', nrows=4, engine='python')\n",
    "                            \n",
    "            print()\n",
    "        continue\n",
    "    else:\n",
    "    #     print(direct)\n",
    "    #     print(file.split(' '))\n",
    "    #     print('_'.join(file.split(' ')))\n",
    "    #     print('_'.join(file.split(' ')).split('_'))\n",
    "    #     print('_'.join(file.split(' ')).split('_')[0]+'_pc')\n",
    "    #     df = pd.DataFrame(columns=['Patient', 'Area', 'V_min', 'V_max', 'Flow_min', 'Flow_max', 'Flow_total'])\n",
    "        header = ['Patient', 'Area [cm^2]', 'V_min [cm/s]', 'V_max [cm/s]',\n",
    "                  'Flow_min [ml/s]', 'Flow_max [ml/s]', 'Flow_pos [ml/s]', 'Flow_neg [ml/s]']\n",
    "        row_list = []\n",
    "        for file in os.listdir(path+direct):\n",
    "    #         print(file.split('_')[0])\n",
    "            patient = file.split('_')[0]\n",
    "            head = ['Index', 'Phase Trigger', 'Area', 'Area_p', 'Vel', 'SD_Vel', \n",
    "                    'Min_V', 'Max_V', 'Flow', 'Sum']\n",
    "            f_path = path+direct+'/'+file\n",
    "            with open(f_path, 'rb') as fp:\n",
    "                num_lines = sum(1 for line in fp)\n",
    "    #         print(num_lines)\n",
    "            data = pd.read_csv(f_path, names=head,  skiprows=num_lines-33, sep=' +', engine='python',\n",
    "                               usecols=['Area', 'Vel', 'Min_V', 'Max_V', 'Flow'])\n",
    "            data.Area = data.Area / 100\n",
    "    #         info = [patient, np.round(data.Area[0], 4), data.Min_V.min(), data.Max_V.max(),\n",
    "    #                  data.Flow.min(), data.Flow.max(), np.round(np.sum(data.Vel * data.Area[0]), 4)]\n",
    "            info = {'Patient' : patient, \n",
    "                    'Area [cm^2]' : np.round(data.Area[0], 4), \n",
    "                    'V_min [cm/s]' : data.Min_V.min(), \n",
    "                    'V_max [cm/s]' : data.Max_V.max(),\n",
    "                    'Flow_min [ml/s]' : data.Flow.min(), \n",
    "                    'Flow_max [ml/s]' : data.Flow.max(),\n",
    "                    'Flow_pos [ml/s]' : np.round(np.sum(data.Vel[data.Vel > 0] * data.Area[0]), 4),\n",
    "                    'Flow_neg [ml/s]' : np.round(np.sum(data.Vel[data.Vel < 0] * data.Area[0]), 4)}\n",
    "    #         df = df.append(info)\n",
    "    #         df = df.append(info, ignore_index=True)\n",
    "            row_list.append(info)\n",
    "        final = pd.DataFrame(row_list, columns=header).sort_values('Patient').reset_index(drop=True)\n",
    "#         print(final)\n",
    "#         final.to_csv(path+save_path, sep='\\t', index=False)\n",
    "        print('\\n')"
   ]
  },
  {
   "cell_type": "code",
   "execution_count": null,
   "metadata": {},
   "outputs": [],
   "source": []
  },
  {
   "cell_type": "code",
   "execution_count": null,
   "metadata": {},
   "outputs": [],
   "source": []
  }
 ],
 "metadata": {
  "kernelspec": {
   "display_name": "Python 3",
   "language": "python",
   "name": "python3"
  },
  "language_info": {
   "codemirror_mode": {
    "name": "ipython",
    "version": 3
   },
   "file_extension": ".py",
   "mimetype": "text/x-python",
   "name": "python",
   "nbconvert_exporter": "python",
   "pygments_lexer": "ipython3",
   "version": "3.7.3"
  }
 },
 "nbformat": 4,
 "nbformat_minor": 2
}
