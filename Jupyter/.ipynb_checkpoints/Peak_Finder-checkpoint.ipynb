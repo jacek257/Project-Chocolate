{
 "cells": [
  {
   "cell_type": "code",
   "execution_count": 13,
   "metadata": {},
   "outputs": [],
   "source": [
    "import sys\n",
    "import os\n",
    "import pandas as pd\n",
    "import seaborn as sns\n",
    "import matplotlib.pyplot as plt\n",
    "import numpy as np\n",
    "from scipy import signal"
   ]
  },
  {
   "cell_type": "code",
   "execution_count": 14,
   "metadata": {},
   "outputs": [
    {
     "name": "stdout",
     "output_type": "stream",
     "text": [
      "/home/ke/Desktop/FSL_work/SH/SH_006_20161221_edits.txt\n"
     ]
    }
   ],
   "source": [
    "path = \"/home/ke/Desktop/FSL_work/SH/SH_006_20161221_edits.txt\"\n",
    "#txt_files = [file for file in os.listdir(path) if file.endswith('.txt')]\n",
    "# print(txt_files)\n",
    "#path = \"../Austin_data/Austin_endtidal/BOLD_CO2_only_edit.txt\"\n",
    "# path = '/home/asophonsri/Dropbox/HMRI/Data/Austin_endtidal/BOLD_O2_only_edit.txt'\n",
    "print(path)"
   ]
  },
  {
   "cell_type": "code",
   "execution_count": 15,
   "metadata": {
    "scrolled": false
   },
   "outputs": [
    {
     "name": "stdout",
     "output_type": "stream",
     "text": [
      "/home/ke/Desktop/FSL_work/SH/SH_006_20161221_edits.txt\n"
     ]
    },
    {
     "data": {
      "image/png": "[encoded data removed]",
      "text/plain": [
       "<Figure size 720x360 with 1 Axes>"
      ]
     },
     "metadata": {},
     "output_type": "display_data"
    },
    {
     "data": {
      "image/png": "[encoded data removed]",
      "text/plain": [
       "<Figure size 720x360 with 1 Axes>"
      ]
     },
     "metadata": {},
     "output_type": "display_data"
    }
   ],
   "source": [
    "sns.set(rc={'figure.figsize':(10,5)})\n",
    "\n",
    "# for file in txt_files:\n",
    "#     f_path = path+file\n",
    "if path:\n",
    "    f_path = path\n",
    "    df = pd.read_csv(f_path, sep='\\t', names=['Time', 'O2', 'CO2', 'thrw', 'away'], usecols=['Time', 'O2', 'CO2'], index_col=False, engine='python')\n",
    "    print(f_path)\n",
    "    \n",
    "#    print(df.CO2.head())\n",
    "#    print(df.CO2.apply(lambda x:x*-1).head())\n",
    "#    print(df.CO2.head())\n",
    "    \n",
    "    sns.scatterplot(x='Time', y='O2', data=df, linewidth=0, s=10)\n",
    "    high_CO2 = signal.find_peaks(df.CO2, prominence=2,)\n",
    "    sns.lineplot(x='Time', y='O2', data=df.iloc[high_CO2[0]], linewidth=4, color='r')\n",
    "    low_O2, _ = signal.find_peaks(df.O2.apply(lambda x: x*-1), prominence=2)\n",
    "#    print(low_O2)\n",
    "#    print()\n",
    "#    print(index)\n",
    "    sns.lineplot(x='Time', y='O2', data=df.iloc[low_O2], linewidth=4, color='g')\n",
    "    plt.show()\n",
    "\n",
    "    sns.scatterplot(x='Time', y='CO2', data=df, linewidth=0, s=10)\n",
    "    high_CO2 = signal.find_peaks(df.CO2, prominence=2,)\n",
    "    sns.lineplot(x='Time', y='O2', data=df.iloc[high_CO2[0]], linewidth=4, color='r')\n",
    "    high_CO2, _ = signal.find_peaks(df.CO2, prominence=2)\n",
    "#    print(high_CO2)\n",
    "#    print()\n",
    "#    print(index)\n",
    "    sns.lineplot(x='Time', y='CO2', data=df.iloc[high_CO2], linewidth=4, color='r')\n",
    "    plt.show()\n",
    "    \n",
    "#    print(len(low_O2))\n",
    "#    print(len(high_CO2))\n",
    "    \n",
    "#    print(df.iloc[low_O2].head())\n",
    "#    print(df.iloc[low_O2].O2.head())\n",
    "#    print(df.iloc[high_CO2].head())\n",
    "#    print(df.iloc[high_CO2].CO2.head())\n",
    "    \n",
    "    O2_df = df.iloc[low_O2].O2\n",
    "    CO2_df = df.iloc[high_CO2].CO2\n",
    "    \n",
    "#    print(O2_df.head())\n",
    "#    print(CO2_df.head())\n",
    "    \n",
    "#    os.mkdir(path+file[:len(file)-4])\n",
    "#    save_path = path+file[:len(file)-4]+'/O2_contrast.txt'\n",
    "#    O2_df.to_csv(path_or_buf=save_path, sep='\\t', header=False, index=False)\n",
    "#    save_path = path+file[:len(file)-4]+'/CO2_contrast.txt'\n",
    "#    CO2_df.to_csv(path_or_buf=save_path, sep='\\t', header=False, index=False)\n",
    "    \n",
    "    \n",
    "#    N = len(df)\n",
    "#    T = 1.5 # given through json file (TR)\n",
    "#    T = df.Time[1] # time between each data point\n",
    "#    O2_x = np.linspace(0.0, N*T, N)\n",
    "    \n",
    "#    O2_xf = np.linspace(0.0, 1.0/(2.0*T), N//2)\n",
    "#    O2_yf = fft(df.O2)\n",
    "#    O2_w = signal.blackman(N)\n",
    "#    O2_ywf = fft(df.O2 * O2_w)\n",
    "    \n",
    "#     plt.semilogx(O2_xf[1:N//2], 2.0/N * np.abs(O2_yf[1:N//2]), '-b')\n",
    "#     plt.semilogx(O2_xf[1:N//2], 2.0/N * np.abs(O2_ywf[1:N//2]), '-r')\n",
    "#    plt.legend(['FFT', 'FFT w. window'])\n",
    "#    plt.show()\n",
    "    \n",
    "#     sns.scatterplot(x='Time', y='O2', data=df, linewidth=0, s=10)\n",
    "#     high_O2 = signal.find_peaks(df.O2, prominence=2)\n",
    "#     sns.lineplot(x='Time', y='O2', data=df.iloc[high_O2[0]], linewidth=4, color='r')\n",
    "#     low_O2 = signal.find_peaks(df.O2.apply(lambda x: x*-1), prominence=2)\n",
    "#     sns.lineplot(x='Time', y='O2', data=df.iloc[low_O2[0]], linewidth=4, color='g')\n",
    "#     plt.show()\n",
    "    \n",
    "    "
   ]
  },
  {
   "cell_type": "code",
   "execution_count": null,
   "metadata": {},
   "outputs": [],
   "source": [
    "b_path = \"\""
   ]
  }
 ],
 "metadata": {
  "kernelspec": {
   "display_name": "Python 3",
   "language": "python",
   "name": "python3"
  },
  "language_info": {
   "codemirror_mode": {
    "name": "ipython",
    "version": 3
   },
   "file_extension": ".py",
   "mimetype": "text/x-python",
   "name": "python",
   "nbconvert_exporter": "python",
   "pygments_lexer": "ipython3",
   "version": "3.7.3"
  }
 },
 "nbformat": 4,
 "nbformat_minor": 2
}
