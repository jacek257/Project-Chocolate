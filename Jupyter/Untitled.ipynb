{
 "cells": [
  {
   "cell_type": "code",
   "execution_count": 62,
   "metadata": {},
   "outputs": [],
   "source": [
    "import os\n",
    "import fnmatch\n",
    "import pandas as pd\n",
    "import numpy as np"
   ]
  },
  {
   "cell_type": "code",
   "execution_count": 21,
   "metadata": {},
   "outputs": [],
   "source": [
    "path = '/home/ke/Desktop/phase_contrast/'"
   ]
  },
  {
   "cell_type": "code",
   "execution_count": 84,
   "metadata": {},
   "outputs": [
    {
     "name": "stdout",
     "output_type": "stream",
     "text": [
      "Aqueduct Phase Contrast 3T txt files\n",
      "\t WH1340\n",
      "      Area   Vel  Min_V  Max_V  Flow\n",
      "0   0.0523  2.13  -1.13   4.52  0.11\n",
      "1   0.0523  2.27  -1.89   4.86  0.12\n",
      "2   0.0523  2.54  -1.60   5.73  0.13\n",
      "3   0.0523  3.08  -2.49   6.18  0.16\n",
      "4   0.0523  3.51  -3.03   6.30  0.18\n",
      "5   0.0523  3.61  -0.58   6.48  0.19\n",
      "6   0.0523  3.12  -1.78   5.94  0.16\n",
      "7   0.0523  2.33  -0.77   4.80  0.12\n",
      "8   0.0523  1.59  -1.75   3.44  0.08\n",
      "9   0.0523  1.21  -1.37   2.72  0.06\n",
      "10  0.0523  0.87  -1.70   2.11  0.05\n",
      "11  0.0523  0.40  -1.83   1.86  0.02\n",
      "12  0.0523 -0.08  -1.48   1.93 -0.00\n",
      "13  0.0523 -0.55  -2.93   1.33 -0.03\n",
      "14  0.0523 -0.79  -2.70   1.41 -0.04\n",
      "15  0.0523 -1.01  -2.98   2.13 -0.05\n",
      "16  0.0523 -1.23  -3.36   2.19 -0.06\n",
      "17  0.0523 -1.46  -4.41   1.44 -0.08\n",
      "18  0.0523 -1.74  -5.06   2.04 -0.09\n",
      "19  0.0523 -1.76  -5.41   2.51 -0.09\n",
      "20  0.0523 -1.85  -4.85   3.04 -0.10\n",
      "21  0.0523 -1.90  -5.28   1.62 -0.10\n",
      "22  0.0523 -2.10  -5.58   2.02 -0.11\n",
      "23  0.0523 -2.19  -5.76   1.98 -0.11\n",
      "24  0.0523 -2.12  -5.86   1.84 -0.11\n",
      "25  0.0523 -1.70  -5.84   2.62 -0.09\n",
      "26  0.0523 -1.37  -5.31   2.12 -0.07\n",
      "27  0.0523 -0.92  -4.09   2.42 -0.05\n",
      "28  0.0523  0.30  -2.14   2.50  0.02\n",
      "29  0.0523  1.31  -1.15   3.13  0.07\n",
      "  Patient    Area  V_min  V_max  Flow_min  Flow_max  Flow_total\n",
      "0  WH1340  0.0523  -5.86   6.48     -0.11      0.19      0.2876\n"
     ]
    }
   ],
   "source": [
    "for direct in os.listdir(path):\n",
    "    if fnmatch.fnmatch(direct, 'Caro*'):\n",
    "        continue\n",
    "    print(direct)\n",
    "#     print(file.split(' '))\n",
    "#     print('_'.join(file.split(' ')))\n",
    "#     print('_'.join(file.split(' ')).split('_'))\n",
    "#     print('_'.join(file.split(' ')).split('_')[0]+'_pc')\n",
    "    save_path = '_'.join(direct.split(' ')).split('_')[0]+'_pc'\n",
    "    df = pd.DataFrame(columns=['Patient', 'Area', 'V_min', 'V_max', 'Flow_min', 'Flow_max', 'Flow_total'])\n",
    "    for file in os.listdir(path+direct):\n",
    "        print('\\t',file.split('_')[0])\n",
    "        patient = file.split('_')[0]\n",
    "        head = ['Index', 'Phase Trigger', 'Area', 'Area_p', 'Vel', 'SD_Vel', \n",
    "                'Min_V', 'Max_V', 'Flow', 'Sum']\n",
    "        data = pd.read_csv(path+direct+'/'+file, names=head,  skiprows=75, sep=' +', engine='python',\n",
    "                           usecols=['Area', 'Vel', 'Min_V', 'Max_V', 'Flow'])\n",
    "        data.Area = data.Area / 100\n",
    "        print(data)\n",
    "#         info = [patient, np.round(data.Area[0], 4), data.Min_V.min(), data.Max_V.max(),\n",
    "#                  data.Flow.min(), data.Flow.max(), np.round(np.sum(data.Vel * data.Area[0]), 4)]\n",
    "        info = {'Patient' : patient, \n",
    "                'Area' : np.round(data.Area[0], 4), \n",
    "                'V_min' : data.Min_V.min(), \n",
    "                'V_max' : data.Max_V.max(),\n",
    "                'Flow_min' : data.Flow.min(), \n",
    "                'Flow_max' : data.Flow.max(),\n",
    "                'Flow_total' : np.round(np.sum(data.Vel * data.Area[0]), 4)}\n",
    "#         df = df.append(info)\n",
    "        df = df.append(info, ignore_index=True)\n",
    "        print(df)\n",
    "        break\n",
    "    break\n",
    "    print('\\n')"
   ]
  },
  {
   "cell_type": "code",
   "execution_count": null,
   "metadata": {},
   "outputs": [],
   "source": []
  }
 ],
 "metadata": {
  "kernelspec": {
   "display_name": "Python 3",
   "language": "python",
   "name": "python3"
  },
  "language_info": {
   "codemirror_mode": {
    "name": "ipython",
    "version": 3
   },
   "file_extension": ".py",
   "mimetype": "text/x-python",
   "name": "python",
   "nbconvert_exporter": "python",
   "pygments_lexer": "ipython3",
   "version": "3.7.3"
  }
 },
 "nbformat": 4,
 "nbformat_minor": 2
}
