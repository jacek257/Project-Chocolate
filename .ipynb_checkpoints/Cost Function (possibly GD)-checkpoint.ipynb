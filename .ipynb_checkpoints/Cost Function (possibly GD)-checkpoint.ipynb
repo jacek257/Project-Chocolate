{
 "cells": [
  {
   "cell_type": "code",
   "execution_count": 1,
   "metadata": {},
   "outputs": [],
   "source": [
    "import plotnine\n",
    "import matplotlib\n",
    "import matplotlib.pyplot as plt\n",
    "\n",
    "%matplotlib inline"
   ]
  },
  {
   "cell_type": "code",
   "execution_count": 4,
   "metadata": {},
   "outputs": [],
   "source": [
    "def grad_constant(M, alpha, phi, psi, t, y):\n",
    "    \"\"\"Returns a scaling vector, used to dotproduct the inconsistent gradients\n",
    "    \n",
    "        \\t M (float): max signal strength/ gas concentration\n",
    "        \n",
    "        \\t alpha (float): max rate of change\n",
    "        \n",
    "        \\t phi (float): horizontal shifter, time of midpoint/greatest rate of change\n",
    "        \n",
    "        \\t psi (float): vertical shifter, baseline intensity/ gas concentration\n",
    "    \"\"\"\n",
    "    return (2*(M/(1+e**(-1*alpha*(t-phi)))+psi-y)**2)\n",
    "def grad_M(M, alpha, phi, psi, t, y):\n",
    "    return (grad_constant(M, alpha, phi, psi, t, y)/(1+e**(-1*alpha*(t-phi))))\n",
    "# def grad_alpha(M, alpha, phi, psi, t, y):\n",
    "#     return (grad_constant(M, alpha, phi, psi, y)*M*()"
   ]
  },
  {
   "cell_type": "code",
   "execution_count": null,
   "metadata": {},
   "outputs": [],
   "source": [
    "grad_constant()"
   ]
  }
 ],
 "metadata": {
  "kernelspec": {
   "display_name": "Python 3",
   "language": "python",
   "name": "python3"
  },
  "language_info": {
   "codemirror_mode": {
    "name": "ipython",
    "version": 3
   },
   "file_extension": ".py",
   "mimetype": "text/x-python",
   "name": "python",
   "nbconvert_exporter": "python",
   "pygments_lexer": "ipython3",
   "version": "3.7.3"
  }
 },
 "nbformat": 4,
 "nbformat_minor": 2
}
